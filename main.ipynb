{
 "cells": [
  {
   "cell_type": "code",
   "execution_count": null,
   "metadata": {},
   "outputs": [],
   "source": []
  },
  {
   "cell_type": "code",
   "execution_count": null,
   "metadata": {},
   "outputs": [],
   "source": []
  },
  {
   "cell_type": "code",
   "execution_count": 58,
   "metadata": {},
   "outputs": [],
   "source": [
    "import torch\n",
    "from diffusers import FluxPipeline\n",
    "\n",
    "pipe = FluxPipeline.from_pretrained(\"black-forest-labs/FLUX.1-schnell\", torch_dtype=torch.bfloat16, device_map=\"cuda:0\")"
   ]
  },
  {
   "cell_type": "code",
   "execution_count": 59,
   "metadata": {},
   "outputs": [],
   "source": [
    "torch.set_grad_enabled(False)"
   ]
  },
  {
   "cell_type": "code",
   "execution_count": 60,
   "metadata": {},
   "outputs": [],
   "source": [
    "from collections import OrderedDict\n",
    "for m in pipe.transformer.modules():\n",
    "    m._forward_hooks = OrderedDict()\n",
    "pipe.transformer.transformer_blocks[18].register_forward_hook(lambda self, input, output: print(output[0].shape, output[1].shape))\n",
    "height = 512\n",
    "width = 512\n",
    "prompt = \"A cat holding a sign that says hello world\"\n",
    "latents = pipe(\n",
    "    prompt,\n",
    "    height=height,\n",
    "    width=width,\n",
    "    guidance_scale=3.5,\n",
    "    num_inference_steps=1,\n",
    "    max_sequence_length=512,\n",
    "    generator=torch.Generator(\"cpu\").manual_seed(0),\n",
    "    return_dict=False,\n",
    "    callback_on_step_end=lambda *args, **kwargs: print(args, kwargs.keys()) or {},\n",
    "    output_type=\"latent\"\n",
    ")[0]"
   ]
  },
  {
   "cell_type": "code",
   "execution_count": 61,
   "metadata": {},
   "outputs": [],
   "source": [
    "latents_reshaped = pipe._unpack_latents(latents, height, width, pipe.vae_scale_factor)\n",
    "latents_reshaped = (latents_reshaped / pipe.vae.config.scaling_factor) + pipe.vae.config.shift_factor\n",
    "image = pipe.vae.decode(latents_reshaped, return_dict=False)[0]\n",
    "image = pipe.image_processor.postprocess(image, output_type=\"pil\")\n",
    "image[0]"
   ]
  },
  {
   "cell_type": "code",
   "execution_count": 67,
   "metadata": {},
   "outputs": [],
   "source": [
    "import numpy as np\n",
    "nf4 = np.asarray(\n",
    "    [\n",
    "        -1.0,\n",
    "        -0.6961928009986877,\n",
    "        -0.5250730514526367,\n",
    "        -0.39491748809814453,\n",
    "        -0.28444138169288635,\n",
    "        -0.18477343022823334,\n",
    "        -0.09105003625154495,\n",
    "        0.0,\n",
    "        0.07958029955625534,\n",
    "        0.16093020141124725,\n",
    "        0.24611230194568634,\n",
    "        0.33791524171829224,\n",
    "        0.44070982933044434,\n",
    "        0.5626170039176941,\n",
    "        0.7229568362236023,\n",
    "        1.0,\n",
    "    ]\n",
    ")\n",
    "image_max = 6.0"
   ]
  },
  {
   "cell_type": "code",
   "execution_count": null,
   "metadata": {},
   "outputs": [],
   "source": []
  },
  {
   "cell_type": "code",
   "execution_count": null,
   "metadata": {},
   "outputs": [],
   "source": [
    "%load_ext autoreload\n",
    "%autoreload 2\n",
    "from collections import OrderedDict\n",
    "from datasets import load_dataset\n",
    "from more_itertools import chunked\n",
    "from itda import ITDAConfig, ITDA\n",
    "from tqdm.auto import tqdm\n",
    "import json, os\n",
    "os.makedirs(\"dataset\", exist_ok=True)\n",
    "prompts_dataset = load_dataset(\"opendiffusionai/cc12m-cleaned\")\n",
    "prompts_iterator = prompts_dataset[\"train\"][\"caption_llava_short\"]\n",
    "guidance_scale = 3.5\n",
    "num_inference_steps = 1\n",
    "batch_size = 16\n",
    "width = 512\n",
    "height = 512\n",
    "d_model = 3072\n",
    "itda_config = ITDAConfig(\n",
    "    d_model=d_model,\n",
    "    target_l0=64,\n",
    "    loss_threshold=0.6,\n",
    "    add_error=True,\n",
    "    fvu_loss=True,\n",
    "    subtract_mean=False,\n",
    ")\n",
    "normalize = True\n",
    "device = torch.device(\"cuda:0\")\n",
    "itda = ITDA(itda_config).to(torch.bfloat16).to(device)\n",
    "losses = []\n",
    "dictionary_sizes = []\n",
    "stds = None\n",
    "for i, prompts in enumerate(chunked((bar := tqdm(prompts_iterator)), batch_size)):\n",
    "    with torch.inference_mode():\n",
    "        for m in pipe.transformer.modules():\n",
    "            m._forward_hooks = OrderedDict()\n",
    "        text_outputs = {}\n",
    "        image_outputs = {}\n",
    "        timestep = 0\n",
    "        def save_hook(self, input, output):\n",
    "            text_outputs[timestep] = output[0]\n",
    "            image_outputs[timestep] = output[1]\n",
    "        pipe.transformer.transformer_blocks[18].register_forward_hook(save_hook)\n",
    "        height = 512\n",
    "        width = 512\n",
    "        def callback_on_step_end(self, i, t, kwargs):\n",
    "            global timestep\n",
    "            timestep = i\n",
    "            return {}\n",
    "        pipe.set_progress_bar_config(disable=True)\n",
    "        latents = pipe(\n",
    "            prompts,\n",
    "            height=height,\n",
    "            width=width,\n",
    "            guidance_scale=guidance_scale,\n",
    "            num_inference_steps=num_inference_steps,\n",
    "            max_sequence_length=512,\n",
    "            generator=torch.Generator(\"cpu\").manual_seed(0),\n",
    "            return_dict=False,\n",
    "            callback_on_step_end=callback_on_step_end,\n",
    "            output_type=\"latent\",\n",
    "            \n",
    "        )[0]\n",
    "        latents_reshaped = pipe._unpack_latents(latents, height, width, pipe.vae_scale_factor)\n",
    "        latents_to_be_compressed = latents_reshaped.cpu().float().numpy()\n",
    "        latents_to_save = (latents_to_be_compressed / image_max).clip(-1, 1)\n",
    "        latents_to_save = np.abs(latents_to_save[..., None] - nf4).argmin(-1).astype(np.uint8)\n",
    "        latents_to_save = (\n",
    "            (latents_to_save[..., ::2] & 0x0F)\n",
    "            | ((latents_to_save[..., 1::2] << 4) & 0xF0))\n",
    "        np.savez_compressed(f\"dataset/batch-{i}.npz\", latents_to_save)\n",
    "        json.dump(dict(\n",
    "            prompts=prompts,\n",
    "            step=i,\n",
    "            batch_size=batch_size,\n",
    "            width=width,\n",
    "            height=height,\n",
    "            guidance_scale=3.5,\n",
    "            num_inference_steps=num_inference_steps,\n",
    "        ), open(f\"dataset/batch-{i}.json\", \"w\"))\n",
    "        x = image_outputs[0].to(torch.bfloat16).to(device)\n",
    "        x = x.reshape(-1, d_model)\n",
    "        \n",
    "        if normalize:\n",
    "            if stds is None:\n",
    "                stds = x.std(dim=0, unbiased=False)\n",
    "            x = x / stds\n",
    "\n",
    "        loss = itda.step(x, x).losses.mean().item()\n",
    "        bar.set_postfix(\n",
    "            loss=loss,\n",
    "            dictionary_size=itda.dictionary_size\n",
    "        )\n",
    "        losses.append(loss)\n",
    "        dictionary_sizes.append(itda.dictionary_size)"
   ]
  },
  {
   "cell_type": "code",
   "execution_count": 106,
   "metadata": {},
   "outputs": [],
   "source": [
    "dictionary = itda.xs[:itda.dictionary_size].float().cpu().numpy()"
   ]
  },
  {
   "cell_type": "code",
   "execution_count": null,
   "metadata": {},
   "outputs": [],
   "source": []
  },
  {
   "cell_type": "code",
   "execution_count": 107,
   "metadata": {},
   "outputs": [],
   "source": [
    "from sklearn.decomposition import PCA\n",
    "\n",
    "pca = PCA()\n",
    "pca.fit(dictionary);"
   ]
  },
  {
   "cell_type": "code",
   "execution_count": null,
   "metadata": {},
   "outputs": [],
   "source": [
    "\n",
    "from matplotlib import pyplot as plt\n",
    "plt.plot(pca.explained_variance_ratio_)\n",
    "plt.loglog()"
   ]
  },
  {
   "cell_type": "code",
   "execution_count": null,
   "metadata": {},
   "outputs": [],
   "source": [
    "plt.loglog(losses)\n",
    "plt.show()\n",
    "plt.loglog(dictionary_sizes)\n",
    "plt.show()"
   ]
  }
 ],
 "metadata": {
  "kernelspec": {
   "display_name": ".venv",
   "language": "python",
   "name": "python3"
  },
  "language_info": {
   "codemirror_mode": {
    "name": "ipython",
    "version": 3
   },
   "file_extension": ".py",
   "mimetype": "text/x-python",
   "name": "python",
   "nbconvert_exporter": "python",
   "pygments_lexer": "ipython3",
   "version": "3.10.12"
  }
 },
 "nbformat": 4,
 "nbformat_minor": 2
}
