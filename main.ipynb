{
 "cells": [
  {
   "cell_type": "code",
   "execution_count": 1,
   "metadata": {},
   "outputs": [],
   "source": [
    "%load_ext autoreload\n",
    "%autoreload 2\n",
    "from collections import OrderedDict\n",
    "from datasets import load_dataset\n",
    "from more_itertools import chunked\n",
    "from itda import ITDAConfig, ITDA\n",
    "from tqdm.auto import tqdm\n",
    "import numpy, torch\n",
    "import json, os\n",
    "os.makedirs(\"dataset\", exist_ok=True)"
   ]
  },
  {
   "cell_type": "code",
   "execution_count": 2,
   "metadata": {},
   "outputs": [
    {
     "data": {
      "application/vnd.jupyter.widget-view+json": {
       "model_id": "43f158c0e86d4107bb8aba86e064f5e3",
       "version_major": 2,
       "version_minor": 0
      },
      "text/plain": [
       "Loading pipeline components...:   0%|          | 0/7 [00:00<?, ?it/s]"
      ]
     },
     "metadata": {},
     "output_type": "display_data"
    },
    {
     "name": "stderr",
     "output_type": "stream",
     "text": [
      "You set `add_prefix_space`. The tokenizer needs to be converted from the slow tokenizers\n"
     ]
    },
    {
     "data": {
      "application/vnd.jupyter.widget-view+json": {
       "model_id": "2d24e4ccd8f0494cba740cdee5e9056d",
       "version_major": 2,
       "version_minor": 0
      },
      "text/plain": [
       "Loading checkpoint shards:   0%|          | 0/2 [00:00<?, ?it/s]"
      ]
     },
     "metadata": {},
     "output_type": "display_data"
    }
   ],
   "source": [
    "import torch\n",
    "from diffusers import FluxPipeline\n",
    "\n",
    "pipe = FluxPipeline.from_pretrained(\"black-forest-labs/FLUX.1-schnell\", torch_dtype=torch.bfloat16, device_map=\"balanced\")"
   ]
  },
  {
   "cell_type": "code",
   "execution_count": 3,
   "metadata": {},
   "outputs": [
    {
     "data": {
      "text/plain": [
       "<torch.autograd.grad_mode.set_grad_enabled at 0x7f60a0093610>"
      ]
     },
     "execution_count": 3,
     "metadata": {},
     "output_type": "execute_result"
    }
   ],
   "source": [
    "torch.set_grad_enabled(False)"
   ]
  },
  {
   "cell_type": "code",
   "execution_count": 4,
   "metadata": {},
   "outputs": [],
   "source": [
    "import numpy as np\n",
    "nf4 = np.asarray(\n",
    "    [\n",
    "        -1.0,\n",
    "        -0.6961928009986877,\n",
    "        -0.5250730514526367,\n",
    "        -0.39491748809814453,\n",
    "        -0.28444138169288635,\n",
    "        -0.18477343022823334,\n",
    "        -0.09105003625154495,\n",
    "        0.0,\n",
    "        0.07958029955625534,\n",
    "        0.16093020141124725,\n",
    "        0.24611230194568634,\n",
    "        0.33791524171829224,\n",
    "        0.44070982933044434,\n",
    "        0.5626170039176941,\n",
    "        0.7229568362236023,\n",
    "        1.0,\n",
    "    ]\n",
    ")\n",
    "image_max = 6.0"
   ]
  },
  {
   "cell_type": "code",
   "execution_count": null,
   "metadata": {},
   "outputs": [],
   "source": [
    "@torch.compile(mode=\"max-autotune\")\n",
    "def strip_high_cossim(x, threshold=0.8, remove_pct = 0.5):\n",
    "    x = x - x.mean(0)\n",
    "    x = x / x.norm(dim=-1, keepdim=True)\n",
    "    has_duplicate = ((x @ x.T - 2 * torch.eye(x.shape[0], device=x.device, dtype=x.dtype)) > threshold).any(dim=-1)\n",
    "    rand_mask = (torch.rand_like(has_duplicate, dtype=torch.float16) < remove_pct)\n",
    "    return ~(has_duplicate & rand_mask)"
   ]
  },
  {
   "cell_type": "code",
   "execution_count": null,
   "metadata": {},
   "outputs": [],
   "source": [
    "prompts_dataset = load_dataset(\"opendiffusionai/cc12m-cleaned\")\n",
    "prompts_iterator = prompts_dataset[\"train\"][\"caption_llava_short\"]\n",
    "guidance_scale = 3.5\n",
    "num_inference_steps = 1\n",
    "batch_size = 16\n",
    "width = 512\n",
    "height = 512\n",
    "d_model = 3072\n",
    "itda_config = ITDAConfig(\n",
    "    d_model=d_model,\n",
    "    target_l0=64,\n",
    "    loss_threshold=0.6,\n",
    "    add_error=True,\n",
    "    fvu_loss=True,\n",
    "    subtract_mean=False,\n",
    ")\n",
    "normalize = True\n",
    "device = torch.device(\"cuda:0\")\n",
    "itda = ITDA(itda_config, dtype=torch.bfloat16, device=device)\n",
    "losses = []\n",
    "dictionary_sizes = []\n",
    "stds = None\n",
    "for i, prompts in enumerate(chunked((bar := tqdm(prompts_iterator)), batch_size)):\n",
    "    with torch.inference_mode():\n",
    "        for m in pipe.transformer.modules():\n",
    "            m._forward_hooks = OrderedDict()\n",
    "        text_outputs = {}\n",
    "        image_outputs = {}\n",
    "        timestep = 0\n",
    "        def save_hook(self, input, output):\n",
    "            text_outputs[timestep] = output[0]\n",
    "            image_outputs[timestep] = output[1]\n",
    "        pipe.transformer.transformer_blocks[18].register_forward_hook(save_hook)\n",
    "        height = 512\n",
    "        width = 512\n",
    "        def callback_on_step_end(self, i, t, kwargs):\n",
    "            global timestep\n",
    "            timestep = i\n",
    "            return {}\n",
    "        pipe.set_progress_bar_config(disable=True)\n",
    "        with torch.inference_mode():\n",
    "            latents = pipe(\n",
    "                prompts,\n",
    "                height=height,\n",
    "                width=width,\n",
    "                guidance_scale=guidance_scale,\n",
    "                num_inference_steps=num_inference_steps,\n",
    "                max_sequence_length=512,\n",
    "                generator=torch.Generator(\"cpu\").manual_seed(0),\n",
    "                return_dict=False,\n",
    "                callback_on_step_end=callback_on_step_end,\n",
    "                output_type=\"latent\",\n",
    "            )[0]\n",
    "        latents_reshaped = pipe._unpack_latents(latents, height, width, pipe.vae_scale_factor)\n",
    "        latents_to_be_compressed = latents_reshaped.cpu().float().numpy()\n",
    "        latents_to_save = (latents_to_be_compressed / image_max).clip(-1, 1)\n",
    "        latents_to_save = np.abs(latents_to_save[..., None] - nf4).argmin(-1).astype(np.uint8)\n",
    "        latents_to_save = (\n",
    "            (latents_to_save[..., ::2] & 0x0F)\n",
    "            | ((latents_to_save[..., 1::2] << 4) & 0xF0))\n",
    "        np.savez_compressed(f\"dataset/batch-{i}.npz\", latents_to_save)\n",
    "        json.dump(dict(\n",
    "            prompts=prompts,\n",
    "            step=i,\n",
    "            batch_size=batch_size,\n",
    "            width=width,\n",
    "            height=height,\n",
    "            guidance_scale=3.5,\n",
    "            num_inference_steps=num_inference_steps,\n",
    "        ), open(f\"dataset/batch-{i}.json\", \"w\"))\n",
    "        x = image_outputs[0].to(torch.bfloat16).to(device)\n",
    "        x = x.reshape(-1, d_model)\n",
    "        \n",
    "        if normalize:\n",
    "            if stds is None:\n",
    "                stds = x.std(dim=0, unbiased=False)\n",
    "            x = x / stds\n",
    "\n",
    "        out = itda.step(x, x)\n",
    "        if out is None:\n",
    "            continue\n",
    "        loss = out.losses.mean().item()\n",
    "        bar.set_postfix(\n",
    "            loss=loss,\n",
    "            dictionary_size=itda.dictionary_size\n",
    "        )\n",
    "        losses.append(loss)\n",
    "        dictionary_sizes.append(itda.dictionary_size)\n",
    "        \n",
    "\n",
    "        if (i // batch_size) % 10 == 0:\n",
    "            xs = itda.xs[:itda.dictionary_size]\n",
    "            mask = strip_high_cossim(xs)\n",
    "            itda.xs = xs[mask]\n",
    "            itda.ys = itda.ys[:itda.dictionary_size][mask]\n",
    "            print(\"Pruning at step\", i, \"complete. Pruned\", (~mask).sum().item(), \"vectors.\")\n"
   ]
  },
  {
   "cell_type": "code",
   "execution_count": null,
   "metadata": {},
   "outputs": [
    {
     "name": "stdout",
     "output_type": "stream",
     "text": [
      "tensor(0.9989, device='cuda:0')\n"
     ]
    }
   ],
   "source": []
  },
  {
   "cell_type": "markdown",
   "metadata": {},
   "source": []
  },
  {
   "cell_type": "code",
   "execution_count": null,
   "metadata": {},
   "outputs": [],
   "source": [
    "dictionary = itda.xs[:itda.dictionary_size].float().cpu().numpy()"
   ]
  },
  {
   "cell_type": "code",
   "execution_count": 107,
   "metadata": {},
   "outputs": [],
   "source": [
    "from sklearn.decomposition import PCA\n",
    "\n",
    "pca = PCA()\n",
    "pca.fit(dictionary)"
   ]
  },
  {
   "cell_type": "code",
   "execution_count": null,
   "metadata": {},
   "outputs": [],
   "source": []
  }
 ],
 "metadata": {
  "kernelspec": {
   "display_name": ".venv",
   "language": "python",
   "name": "python3"
  },
  "language_info": {
   "codemirror_mode": {
    "name": "ipython",
    "version": 3
   },
   "file_extension": ".py",
   "mimetype": "text/x-python",
   "name": "python",
   "nbconvert_exporter": "python",
   "pygments_lexer": "ipython3",
   "version": "3.10.12"
  }
 },
 "nbformat": 4,
 "nbformat_minor": 2
}
