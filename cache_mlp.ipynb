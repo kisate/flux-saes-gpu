{
 "cells": [
  {
   "cell_type": "code",
   "execution_count": 1,
   "metadata": {},
   "outputs": [],
   "source": [
    "%load_ext autoreload\n",
    "%autoreload 2\n",
    "from collections import OrderedDict\n",
    "from datasets import load_dataset\n",
    "from more_itertools import chunked\n",
    "from itda import ITDAConfig, ITDA\n",
    "from tqdm.auto import tqdm\n",
    "import numpy, torch\n",
    "import json, os\n",
    "os.makedirs(\"dataset\", exist_ok=True)"
   ]
  },
  {
   "cell_type": "code",
   "execution_count": 2,
   "metadata": {},
   "outputs": [
    {
     "data": {
      "application/vnd.jupyter.widget-view+json": {
       "model_id": "dfe84dde00c64c2f9d39efe9428c154c",
       "version_major": 2,
       "version_minor": 0
      },
      "text/plain": [
       "Loading pipeline components...:   0%|          | 0/7 [00:00<?, ?it/s]"
      ]
     },
     "metadata": {},
     "output_type": "display_data"
    },
    {
     "name": "stderr",
     "output_type": "stream",
     "text": [
      "You set `add_prefix_space`. The tokenizer needs to be converted from the slow tokenizers\n"
     ]
    },
    {
     "data": {
      "application/vnd.jupyter.widget-view+json": {
       "model_id": "ab272ed582ec49b08c9c49084f545e34",
       "version_major": 2,
       "version_minor": 0
      },
      "text/plain": [
       "Loading checkpoint shards:   0%|          | 0/2 [00:00<?, ?it/s]"
      ]
     },
     "metadata": {},
     "output_type": "display_data"
    }
   ],
   "source": [
    "import torch\n",
    "from diffusers import FluxPipeline\n",
    "\n",
    "pipe = FluxPipeline.from_pretrained(\"black-forest-labs/FLUX.1-schnell\", torch_dtype=torch.bfloat16, device_map=\"balanced\")"
   ]
  },
  {
   "cell_type": "code",
   "execution_count": 3,
   "metadata": {},
   "outputs": [
    {
     "data": {
      "text/plain": [
       "<torch.autograd.grad_mode.set_grad_enabled at 0x7f47f2579520>"
      ]
     },
     "execution_count": 3,
     "metadata": {},
     "output_type": "execute_result"
    }
   ],
   "source": [
    "torch.set_grad_enabled(False)"
   ]
  },
  {
   "cell_type": "code",
   "execution_count": 4,
   "metadata": {},
   "outputs": [],
   "source": [
    "import numpy as np\n",
    "nf4 = np.asarray(\n",
    "    [\n",
    "        -1.0,\n",
    "        -0.6961928009986877,\n",
    "        -0.5250730514526367,\n",
    "        -0.39491748809814453,\n",
    "        -0.28444138169288635,\n",
    "        -0.18477343022823334,\n",
    "        -0.09105003625154495,\n",
    "        0.0,\n",
    "        0.07958029955625534,\n",
    "        0.16093020141124725,\n",
    "        0.24611230194568634,\n",
    "        0.33791524171829224,\n",
    "        0.44070982933044434,\n",
    "        0.5626170039176941,\n",
    "        0.7229568362236023,\n",
    "        1.0,\n",
    "    ]\n",
    ")\n",
    "image_max = 6.0"
   ]
  },
  {
   "cell_type": "code",
   "execution_count": 6,
   "metadata": {},
   "outputs": [],
   "source": [
    "prompts_dataset = load_dataset(\"opendiffusionai/cc12m-cleaned\")\n",
    "prompts_iterator = prompts_dataset[\"train\"][\"caption_llava_short\"]\n",
    "guidance_scale = 3.5\n",
    "num_inference_steps = 1\n",
    "batch_size = 32\n",
    "width = 256\n",
    "height = 256\n",
    "d_model = 3072"
   ]
  },
  {
   "cell_type": "code",
   "execution_count": 7,
   "metadata": {},
   "outputs": [],
   "source": [
    "normalize = False\n",
    "device = \"cuda\""
   ]
  },
  {
   "cell_type": "code",
   "execution_count": 46,
   "metadata": {},
   "outputs": [],
   "source": [
    "from caching_utils import save_itda_outputs\n",
    "from scored_storage import ScoredStorage\n",
    "from pathlib import Path\n",
    "\n",
    "topk = 64\n",
    "\n",
    "feature_acts = ScoredStorage(\n",
    "    Path(\"mlp_data\") / \"feature_acts.db\",\n",
    "    3, topk\n",
    ")"
   ]
  },
  {
   "cell_type": "code",
   "execution_count": 47,
   "metadata": {},
   "outputs": [],
   "source": [
    "images_dir = Path(\"images_mlp\")\n",
    "images_dir.mkdir(exist_ok=True)\n",
    "\n",
    "image_activations_dir = Path(\"image_activations_mlp\")\n",
    "image_activations_dir.mkdir(exist_ok=True)"
   ]
  },
  {
   "cell_type": "code",
   "execution_count": 50,
   "metadata": {},
   "outputs": [
    {
     "data": {
      "application/vnd.jupyter.widget-view+json": {
       "model_id": "0b2176d9599f4ef6915c61aa52d56c8f",
       "version_major": 2,
       "version_minor": 0
      },
      "text/plain": [
       "  0%|          | 0/5000 [00:00<?, ?it/s]"
      ]
     },
     "metadata": {},
     "output_type": "display_data"
    }
   ],
   "source": [
    "for i, prompts in enumerate(chunked((bar := tqdm(prompts_iterator[10000:15000])), batch_size)):\n",
    "    with torch.inference_mode():\n",
    "        for m in pipe.transformer.modules():\n",
    "            m._forward_hooks = OrderedDict()\n",
    "        # text_outputs = {}\n",
    "        image_outputs = {}\n",
    "        timestep = 0\n",
    "        def save_hook(self, input, output):\n",
    "            # text_outputs[timestep] = output[0]\n",
    "            image_outputs[timestep] = output#[1]\n",
    "        pipe.transformer.transformer_blocks[18].ff.net[0].register_forward_hook(save_hook)\n",
    "        height = 256\n",
    "        width = 256\n",
    "        def callback_on_step_end(self, i, t, kwargs):\n",
    "            global timestep\n",
    "            timestep = i\n",
    "            return {}\n",
    "        pipe.set_progress_bar_config(disable=True)\n",
    "        with torch.inference_mode():\n",
    "            latents = pipe(\n",
    "                prompts,\n",
    "                height=height,\n",
    "                width=width,\n",
    "                guidance_scale=guidance_scale,\n",
    "                num_inference_steps=num_inference_steps,\n",
    "                max_sequence_length=512,\n",
    "                generator=torch.Generator(\"cpu\").manual_seed(0),\n",
    "                return_dict=False,\n",
    "                callback_on_step_end=callback_on_step_end,\n",
    "                output_type=\"latent\",\n",
    "            )[0]\n",
    "        latents_reshaped = pipe._unpack_latents(latents, height, width, pipe.vae_scale_factor)\n",
    "        latents_to_be_compressed = latents_reshaped.cpu().float().numpy()\n",
    "        \n",
    "        # break\n",
    "\n",
    "        # if normalize:\n",
    "        #     if stds is None:\n",
    "        #         stds = x.std(dim=0, unbiased=False)\n",
    "        #     x = x / stds\n",
    "\n",
    "        weights, indices = image_outputs[0].cpu().float().topk(topk, dim=-1)\n",
    "\n",
    "        weights = weights.float().cpu().numpy()\n",
    "        indices = indices.cpu().numpy()\n",
    "\n",
    "\n",
    "        save_itda_outputs(\n",
    "            weights, indices, prompts=prompts, images=latents_to_be_compressed, feature_acts=feature_acts, save_image_activations=True, step=i, \n",
    "            images_dir=images_dir, image_activations_dir=image_activations_dir\n",
    "        )"
   ]
  },
  {
   "cell_type": "code",
   "execution_count": 43,
   "metadata": {},
   "outputs": [],
   "source": [
    "vv, ii = image_outputs[0].cpu().float().topk(64, dim=-1)"
   ]
  },
  {
   "cell_type": "code",
   "execution_count": 45,
   "metadata": {},
   "outputs": [
    {
     "data": {
      "text/plain": [
       "torch.Size([32, 256, 64])"
      ]
     },
     "execution_count": 45,
     "metadata": {},
     "output_type": "execute_result"
    }
   ],
   "source": [
    "vv.shape"
   ]
  },
  {
   "cell_type": "code",
   "execution_count": 44,
   "metadata": {},
   "outputs": [
    {
     "data": {
      "image/png": "[encoded data removed]",
      "text/plain": [
       "<Figure size 640x480 with 1 Axes>"
      ]
     },
     "metadata": {},
     "output_type": "display_data"
    }
   ],
   "source": [
    "import matplotlib.pyplot as plt\n",
    "plt.plot(vv.mean((0, 1)).cpu().numpy())\n",
    "plt.yscale(\"log\")\n",
    "plt.show()"
   ]
  },
  {
   "cell_type": "code",
   "execution_count": 20,
   "metadata": {},
   "outputs": [
    {
     "data": {
      "text/plain": [
       "(array([1.651614e+06, 9.895230e+05, 1.016550e+05, 7.402800e+04,\n",
       "        5.791100e+04, 4.534200e+04, 3.782300e+04, 3.046500e+04,\n",
       "        2.627200e+04, 2.266600e+04, 1.887600e+04, 1.482700e+04,\n",
       "        1.327600e+04, 1.128800e+04, 9.193000e+03, 7.318000e+03,\n",
       "        6.685000e+03, 4.542000e+03, 4.313000e+03, 3.161000e+03,\n",
       "        2.847000e+03, 2.557000e+03, 1.674000e+03, 1.402000e+03,\n",
       "        1.236000e+03, 1.122000e+03, 7.750000e+02, 6.050000e+02,\n",
       "        4.980000e+02, 4.250000e+02, 3.800000e+02, 2.280000e+02,\n",
       "        2.370000e+02, 1.860000e+02, 1.550000e+02, 1.180000e+02,\n",
       "        8.500000e+01, 7.800000e+01, 5.900000e+01, 4.400000e+01,\n",
       "        4.200000e+01, 2.600000e+01, 3.100000e+01, 1.700000e+01,\n",
       "        1.300000e+01, 1.400000e+01, 1.000000e+01, 1.500000e+01,\n",
       "        7.000000e+00, 1.000000e+01, 1.200000e+01, 5.000000e+00,\n",
       "        4.000000e+00, 4.000000e+00, 3.000000e+00, 0.000000e+00,\n",
       "        4.000000e+00, 1.000000e+00, 5.000000e+00, 1.000000e+00,\n",
       "        0.000000e+00, 1.000000e+00, 0.000000e+00, 1.000000e+00,\n",
       "        3.000000e+00, 0.000000e+00, 1.000000e+00, 2.000000e+00,\n",
       "        1.000000e+00, 0.000000e+00, 1.000000e+00, 0.000000e+00,\n",
       "        0.000000e+00, 0.000000e+00, 0.000000e+00, 1.000000e+00,\n",
       "        0.000000e+00, 0.000000e+00, 0.000000e+00, 0.000000e+00,\n",
       "        0.000000e+00, 1.000000e+00, 1.000000e+00, 1.000000e+00,\n",
       "        0.000000e+00, 0.000000e+00, 0.000000e+00, 0.000000e+00,\n",
       "        0.000000e+00, 0.000000e+00, 0.000000e+00, 0.000000e+00,\n",
       "        0.000000e+00, 0.000000e+00, 0.000000e+00, 0.000000e+00,\n",
       "        0.000000e+00, 0.000000e+00, 0.000000e+00, 1.000000e+00]),\n",
       " array([-0.16992188, -0.04134765,  0.08722657,  0.21580079,  0.34437501,\n",
       "         0.47294927,  0.60152346,  0.73009765,  0.8586719 ,  0.98724616,\n",
       "         1.11582041,  1.24439454,  1.37296879,  1.50154305,  1.63011718,\n",
       "         1.75869143,  1.88726568,  2.01583982,  2.14441419,  2.27298832,\n",
       "         2.40156269,  2.53013682,  2.65871096,  2.78728533,  2.91585946,\n",
       "         3.04443359,  3.17300797,  3.3015821 ,  3.43015623,  3.5587306 ,\n",
       "         3.68730474,  3.81587911,  3.94445324,  4.07302761,  4.20160151,\n",
       "         4.33017588,  4.45875025,  4.58732414,  4.71589851,  4.84447289,\n",
       "         4.97304726,  5.10162115,  5.23019552,  5.35876989,  5.48734379,\n",
       "         5.61591816,  5.74449253,  5.87306643,  6.0016408 ,  6.13021517,\n",
       "         6.25878906,  6.38736343,  6.51593781,  6.6445117 ,  6.77308607,\n",
       "         6.90166044,  7.03023434,  7.15880871,  7.28738308,  7.41595745,\n",
       "         7.54453135,  7.67310572,  7.80168009,  7.93025398,  8.05882835,\n",
       "         8.18740273,  8.3159771 ,  8.44455147,  8.57312489,  8.70169926,\n",
       "         8.83027363,  8.958848  ,  9.08742237,  9.21599674,  9.34457016,\n",
       "         9.47314453,  9.6017189 ,  9.73029327,  9.85886765,  9.98744202,\n",
       "        10.11601639, 10.24458981, 10.37316418, 10.50173855, 10.63031292,\n",
       "        10.75888729, 10.88746166, 11.01603508, 11.14460945, 11.27318382,\n",
       "        11.40175819, 11.53033257, 11.65890694, 11.78748035, 11.91605473,\n",
       "        12.0446291 , 12.17320347, 12.30177784, 12.43035221, 12.55892658,\n",
       "        12.6875    ]),\n",
       " <BarContainer object of 100 artists>)"
      ]
     },
     "execution_count": 20,
     "metadata": {},
     "output_type": "execute_result"
    },
    {
     "data": {
      "image/png": "[encoded data removed]",
      "text/plain": [
       "<Figure size 640x480 with 1 Axes>"
      ]
     },
     "metadata": {},
     "output_type": "display_data"
    }
   ],
   "source": [
    "import matplotlib.pyplot as plt\n",
    "\n",
    "plt.hist(image_outputs[0].cpu().float().numpy().flatten(), bins=100)"
   ]
  }
 ],
 "metadata": {
  "kernelspec": {
   "display_name": ".venv",
   "language": "python",
   "name": "python3"
  },
  "language_info": {
   "codemirror_mode": {
    "name": "ipython",
    "version": 3
   },
   "file_extension": ".py",
   "mimetype": "text/x-python",
   "name": "python",
   "nbconvert_exporter": "python",
   "pygments_lexer": "ipython3",
   "version": "3.12.9"
  }
 },
 "nbformat": 4,
 "nbformat_minor": 2
}
